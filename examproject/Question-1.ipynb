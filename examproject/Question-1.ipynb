{
 "cells": [
  {
   "cell_type": "markdown",
   "metadata": {},
   "source": [
    "# 1. HUMAN CAPITAL"
   ]
  },
  {
   "cell_type": "code",
   "execution_count": 1,
   "metadata": {},
   "outputs": [],
   "source": [
    "# importing useful packages\n",
    "import numpy as np\n",
    "import matplotlib.pyplot as plt\n",
    "import ipywidgets as widgets\n",
    "from scipy import optimize\n",
    "from sympy import *\n",
    "import sympy as sm\n",
    "import pylab\n",
    "\n",
    "sm.init_printing(use_unicode=True)"
   ]
  },
  {
   "cell_type": "markdown",
   "metadata": {},
   "source": [
    "# Question 1"
   ]
  },
  {
   "cell_type": "markdown",
   "metadata": {},
   "source": [
    "Start defining the utility function for period 2 with the following informations:\n",
    "\n",
    "    U2(h2) = max. ((C2**(1-rho))/(1-rho))-gamma*l2\n",
    "    C2 = w*h2*l2\n",
    "    h2 = h1+l1+x (we defined x as a variable to express the two possibilities of delta)\n",
    "    w = 2\n",
    "    rho = 2\n",
    "    gamma = 0.1"
   ]
  },
  {
   "cell_type": "code",
   "execution_count": 2,
   "metadata": {},
   "outputs": [],
   "source": [
    "# defining proper symbols\n",
    "w = sm.symbols('w')\n",
    "h1 = sm.symbols('h1')\n",
    "l1 = sm.symbols('l1')\n",
    "l2 = sm.symbols('l2')\n",
    "rho = sm.symbols('rho')\n",
    "gamma = sm.symbols('gamma')\n",
    "x = sm.symbols('x')"
   ]
  },
  {
   "cell_type": "markdown",
   "metadata": {},
   "source": [
    "For period 2, replacing the arguments we have the utility function of:\n",
    "\n",
    "    U2(h2) = ((((w*(h1+l1+x)*l2)**(1-rho))/(1-rho))-gamma*l2)\n",
    "    \n",
    "We know that if L2 = 0, C2 = b = 1. Thus, we can conclude that U2 = -1\n",
    "\n",
    "This conclusion means that the worker will choose to work in period 2 if U2 > -1"
   ]
  },
  {
   "cell_type": "code",
   "execution_count": 3,
   "metadata": {},
   "outputs": [],
   "source": [
    "# defining u2(utility function for period 2)\n",
    "def u2(h1,l1,l2,x,w=2,rho=2,gamma=0.1):\n",
    "    return ((((w*(h1+l1+x)*l2)**(1-rho))/(1-rho))-gamma*l2)"
   ]
  },
  {
   "cell_type": "code",
   "execution_count": 4,
   "metadata": {},
   "outputs": [],
   "source": [
    "# defining the given vectors for the respective variables\n",
    "h1_vec = np.linspace(0.1,1.5,100)\n",
    "l1_vec = [0,1]\n",
    "l2_vec = [0,1]\n",
    "x_vec = [0,0.1]"
   ]
  },
  {
   "cell_type": "markdown",
   "metadata": {},
   "source": [
    "To maximize the utility function, we are looking separetely for the four cases faced by the worker:\n",
    "    \n",
    "    1st case: l1=1, l2=1 and x=0.1\n",
    "    2nd case: l1=1, l2=1 and x=0\n",
    "    3rd case: l1=0, l2=1 and x=0.1\n",
    "    4th case: l1=0, l2=1 and x=0\n",
    "    \n",
    "We will analyse each case and conclude with the choice of the worker (assuming that she can choose only the values of L1 and L2 and that X depends on a stochastic experience)"
   ]
  },
  {
   "cell_type": "code",
   "execution_count": 5,
   "metadata": {},
   "outputs": [
    {
     "name": "stdout",
     "output_type": "stream",
     "text": [
      "0.1\n",
      "0.1\n",
      "0.4676767676767677\n",
      "0.5666666666666667\n"
     ]
    }
   ],
   "source": [
    "# a. finding values of h1 that makes she work, for each case\n",
    "\n",
    "\n",
    "    # 1st case: l1=1, l2=1 and x=0.1\n",
    "u2_vec1 = np.empty(100)\n",
    "x_list1 = list('') # list to add all the values of h1 that makes u2 > -1\n",
    "for i,x in enumerate(h1_vec):\n",
    "    u2_now1 = u2_vec1[i] = u2(x,1,1,0.1)\n",
    "    if u2_now1 > -1:\n",
    "        x_list1.append(x)\n",
    "print(x_list1[0]) # shows the first value of h1 that makes u2 > -1\n",
    "\n",
    "\n",
    "    # 2nd case: l1=1, l2=1 and x=0\n",
    "u2_vec2 = np.empty(100)\n",
    "x_list2 = list('')\n",
    "for i,x in enumerate(h1_vec):\n",
    "    u2_now2 = u2_vec2[i] = u2(x,1,1,0)\n",
    "    if u2_now2 > -1:\n",
    "        x_list2.append(x)        \n",
    "print(x_list2[0])\n",
    "\n",
    "\n",
    "    # 3rd case: l1=0, l2=1 and x=0.1\n",
    "u2_vec3 = np.empty(100)\n",
    "x_list3 = list('')\n",
    "for i,x in enumerate(h1_vec):\n",
    "    u2_now3 = u2_vec3[i] = u2(x,0,1,0.1)\n",
    "    if u2_now3 > -1:\n",
    "        x_list3.append(x)        \n",
    "print(x_list3[0])\n",
    "\n",
    "\n",
    "    # 4th case: l1=0, l2=1 and x=0\n",
    "u2_vec4 = np.empty(100)\n",
    "x_list4 = list('')\n",
    "for i,x in enumerate(h1_vec):\n",
    "    u2_now4 = u2_vec4[i] = u2(x,0,1,0)\n",
    "    if u2_now4 > -1:\n",
    "        x_list4.append(x)        \n",
    "print(x_list4[0])"
   ]
  },
  {
   "cell_type": "markdown",
   "metadata": {},
   "source": [
    "This means that, for cases 1 and 2, she will always choose to work\n",
    "\n",
    "For case 3, she will work if previous human capital (h1) is higher or equal to 0.46767...\n",
    "\n",
    "For case 4, if h1 is higher or equal to 0.566...\n",
    "\n",
    "On the other cases, she will choose not to work in period 2"
   ]
  },
  {
   "cell_type": "code",
   "execution_count": 6,
   "metadata": {},
   "outputs": [
    {
     "name": "stdout",
     "output_type": "stream",
     "text": [
      "-0.29230769230769227\n",
      "-0.30000000000000004\n",
      "-0.4125\n",
      "-0.43333333333333335\n"
     ]
    }
   ],
   "source": [
    "# now printing highest value of each utility function\n",
    "\n",
    "print(max(u2_vec1))\n",
    "print(max(u2_vec2))\n",
    "print(max(u2_vec3))\n",
    "print(max(u2_vec4))"
   ]
  },
  {
   "cell_type": "markdown",
   "metadata": {},
   "source": [
    "As we can see, the best choice would be the first case"
   ]
  },
  {
   "cell_type": "code",
   "execution_count": 7,
   "metadata": {},
   "outputs": [
    {
     "data": {
      "text/plain": [
       "Text(0, 0.5, 'u2')"
      ]
     },
     "execution_count": 7,
     "metadata": {},
     "output_type": "execute_result"
    },
    {
     "data": {
      "image/png": "[encoded data removed]",
      "text/plain": [
       "<Figure size 432x288 with 1 Axes>"
      ]
     },
     "metadata": {
      "needs_background": "light"
     },
     "output_type": "display_data"
    }
   ],
   "source": [
    "# plotting all the cases together\n",
    "plt.plot(h1_vec,u2_vec1, label = '1st case')\n",
    "plt.plot(h1_vec,u2_vec2, label = '2nd case')\n",
    "plt.plot(h1_vec,u2_vec3, label = '3rd case')\n",
    "plt.plot(h1_vec,u2_vec4, label = '4th case')\n",
    "plt.legend()\n",
    "plt.xlabel('h1')\n",
    "plt.ylabel('u2')"
   ]
  },
  {
   "cell_type": "code",
   "execution_count": 8,
   "metadata": {},
   "outputs": [],
   "source": [
    "# b. defining labor suply in function of human capital\n",
    "\n",
    "\n",
    "    # 1st case: l1=1, l2=1 and x=0.1\n",
    "ls_vec1 = np.empty(100)\n",
    "for i,x in enumerate (h1_vec):\n",
    "    def labor_suply1(x):\n",
    "        if x >= x_list1[0]:\n",
    "            return 1\n",
    "        else:\n",
    "            return 0\n",
    "    ls_vec1[i] = labor_suply1(x)\n",
    "        \n",
    "\n",
    "    # 2nd case: l1=1, l2=1 and x=0\n",
    "ls_vec2 = np.empty(100)\n",
    "for i,x in enumerate (h1_vec):\n",
    "    def labor_suply2(x):\n",
    "        if x >= x_list2[0]:\n",
    "            return 1\n",
    "        else:\n",
    "            return 0\n",
    "    ls_vec2[i] = labor_suply2(x)\n",
    "    \n",
    "    \n",
    "    # 3rd case: l1=0, l2=1 and x=0.1\n",
    "ls_vec3 = np.empty(100)\n",
    "for i,x in enumerate (h1_vec):\n",
    "    def labor_suply3(x):\n",
    "        if x >= x_list3[0]:\n",
    "            return 1\n",
    "        else:\n",
    "            return 0\n",
    "    ls_vec3[i] = labor_suply3(x)\n",
    "    \n",
    "    # 4th case: l1=0, l2=1 and x=0\n",
    "ls_vec4 = np.empty(100)\n",
    "for i,x in enumerate (h1_vec):\n",
    "    def labor_suply4(x):\n",
    "        if x >= x_list4[0]:\n",
    "            return 1\n",
    "        else:\n",
    "            return 0\n",
    "    ls_vec4[i] = labor_suply4(x)"
   ]
  },
  {
   "cell_type": "code",
   "execution_count": 9,
   "metadata": {},
   "outputs": [
    {
     "data": {
      "image/png": "[encoded data removed]",
      "text/plain": [
       "<Figure size 432x288 with 4 Axes>"
      ]
     },
     "metadata": {
      "needs_background": "light"
     },
     "output_type": "display_data"
    }
   ],
   "source": [
    "# plotting labor vs h1 for each case\n",
    "plt.figure(1)\n",
    "\n",
    "# 1st case: l1=1, l2=1 and x=0.1\n",
    "plt.subplot(221)\n",
    "plt.plot(h1_vec,ls_vec1)\n",
    "plt.xlabel('h1')\n",
    "plt.ylabel('labor supply')\n",
    "plt.title('1st case')\n",
    "\n",
    "# 2nd case: l1=1, l2=1 and x=0\n",
    "plt.subplot(222)\n",
    "plt.plot(h1_vec,ls_vec2)\n",
    "plt.xlabel('h1')\n",
    "plt.ylabel('labor supply')\n",
    "plt.title('2nd case')\n",
    "\n",
    "# 3rd case: l1=0, l2=1 and x=0.1\n",
    "plt.subplot(223)\n",
    "plt.plot(h1_vec,ls_vec3)\n",
    "plt.xlabel('h1')\n",
    "plt.ylabel('labor supply')\n",
    "plt.title('3rd case')\n",
    "\n",
    "# 4th case: l1=0, l2=1 and x=0\n",
    "plt.subplot(224)\n",
    "plt.plot(h1_vec,ls_vec4)\n",
    "plt.xlabel('h1')\n",
    "plt.ylabel('labor supply')\n",
    "plt.title('4th case')\n",
    "\n",
    "# adjusting positions of the figures\n",
    "plt.subplots_adjust(top=1.5, bottom=0.1, left=0.5, right=1.5, hspace=0.4,\n",
    "                    wspace=0.4)"
   ]
  },
  {
   "cell_type": "markdown",
   "metadata": {},
   "source": [
    "# Question 2"
   ]
  },
  {
   "cell_type": "markdown",
   "metadata": {},
   "source": [
    "As defined, the utility function for period 1 if she works is:\n",
    "\n",
    "    U1(h1) = max. ((C1**(1-rho))/(1-rho))-gamma*l1 + beta*E[U2(h2)]\n",
    "    \n",
    "    beta = 0.96\n",
    "    E[U2(h2)] is the expected value of living in period 2\n",
    "    \n",
    "If she does not work in period 1, C1=b=1\n",
    "\n",
    "U2 depends on the stochastic X(x=0 with prob. 0.5 and x=0.1 with prob. 0.5) and on the value of h1(in the vector h1_vec)"
   ]
  },
  {
   "cell_type": "markdown",
   "metadata": {},
   "source": [
    "We can find the expected value for each case of U2 and then apply the probabilities of X:"
   ]
  },
  {
   "cell_type": "code",
   "execution_count": 10,
   "metadata": {},
   "outputs": [
    {
     "name": "stdout",
     "output_type": "stream",
     "text": [
      "-0.3764259452892067\n",
      "-0.39355192069198464\n",
      "-0.8494385478040742\n",
      "-1.0847412844082434\n"
     ]
    }
   ],
   "source": [
    "# E[U2] for 1st case(works in period 1):\n",
    "E_1 = sum(u2_vec1)/100\n",
    "print(E_1)\n",
    "\n",
    "# E[U2] for 2nd case(works in period 1):\n",
    "E_2 = sum(u2_vec2)/100\n",
    "print(E_2)\n",
    "\n",
    "# E[U2] for 3rd case(does not work in period 1):\n",
    "E_3 = sum(u2_vec3)/100\n",
    "print(E_3)\n",
    "\n",
    "# E[U2] for 4th case(does not work in period 1):\n",
    "E_4 = sum(u2_vec4)/100\n",
    "print(E_4)"
   ]
  },
  {
   "cell_type": "code",
   "execution_count": 11,
   "metadata": {},
   "outputs": [
    {
     "name": "stdout",
     "output_type": "stream",
     "text": [
      "-0.38498893299059567\n",
      "-0.9670899161061588\n"
     ]
    }
   ],
   "source": [
    "# applying the probabilities of X:\n",
    "E1 = 0.5*E_1 + 0.5*E_2\n",
    "print(E1)\n",
    "\n",
    "E2 = 0.5*E_3 + 0.5*E_4\n",
    "print(E2)"
   ]
  },
  {
   "cell_type": "code",
   "execution_count": 12,
   "metadata": {},
   "outputs": [
    {
     "name": "stdout",
     "output_type": "stream",
     "text": [
      "-0.36958937567097183\n",
      "-0.9284063194619124\n"
     ]
    }
   ],
   "source": [
    "# finding the final expected values knowing that beta = 0.96\n",
    "y1 = 0.96*E1\n",
    "print(y1)\n",
    "\n",
    "y2 = 0.96*E2\n",
    "print(y2)"
   ]
  },
  {
   "cell_type": "markdown",
   "metadata": {},
   "source": [
    "To maximize the utility function, we are looking separetely for the four cases faced by the worker:\n",
    "    \n",
    "    1st case: l1=1, l2=1\n",
    "    2nd case: l1=1, l2=0\n",
    "    3rd case: l1=0, l2=1\n",
    "    4th case: l1=0, l2=0\n",
    "    \n",
    "We will analyse each case and conclude with the choice of the worker (assuming that she can choose the values of L1 and L2)"
   ]
  },
  {
   "cell_type": "markdown",
   "metadata": {},
   "source": [
    "Now we can find the symplified utility functions:\n",
    "\n",
    "a. 1st case:\n",
    "    \n",
    "    U1_1 = max. ((C1**(1-rho))/(1-rho))-gamma*l1 + y1\n",
    "    \n",
    "b. 2nd case:\n",
    "    \n",
    "    U1_2 = max. ((C1**(1-rho))/(1-rho))-gamma*l1 + y2\n",
    "    \n",
    "c. 3rd case:\n",
    "\n",
    "    U1_3 = max. -1 + y1\n",
    "    \n",
    "d. 4th case:\n",
    "    \n",
    "    U1_4 = max. -1 + y2"
   ]
  },
  {
   "cell_type": "code",
   "execution_count": 13,
   "metadata": {},
   "outputs": [],
   "source": [
    "# defining the functions\n",
    "\n",
    "def u1_1(h1,l1,y1,w=2,rho=2,gamma=0.1):\n",
    "    return (((w*h1*l1)**(1-rho))/(1-rho))-gamma*l1+y1\n",
    "\n",
    "def u1_2(h1,l1,y2,w=2,rho=2,gamma=0.1):\n",
    "    return (((w*h1*l1)**(1-rho))/(1-rho))-gamma*l1+y2\n",
    "\n",
    "def u1_3(y1):\n",
    "    return -1 + y1\n",
    "\n",
    "def u1_4(y2):\n",
    "    return -1 + y2"
   ]
  },
  {
   "cell_type": "code",
   "execution_count": 14,
   "metadata": {},
   "outputs": [],
   "source": [
    "# a. finding the curves of utility\n",
    "\n",
    "\n",
    "    # 1st case: l1=1, l2=1\n",
    "u1_vec1 = np.empty(100)\n",
    "for i,x in enumerate(h1_vec):\n",
    "    u1_now1 = u1_vec1[i] = u1_1(x,1,y1)\n",
    "\n",
    "\n",
    "    # 2nd case: l1=1, l2=0\n",
    "u1_vec2 = np.empty(100)\n",
    "for i,x in enumerate(h1_vec):\n",
    "    u1_now2 = u1_vec2[i] = u1_2(x,1,y2)\n",
    "    \n",
    "\n",
    "    # 3rd case: l1=0, l2=1\n",
    "u1_vec3 = np.empty(100)\n",
    "for i,x in enumerate(h1_vec):\n",
    "    u1_now3 = u1_vec3[i] = u1_3(y1)\n",
    "\n",
    "\n",
    "    # 4th case: l1=0, l2=0\n",
    "u1_vec4 = np.empty(100)\n",
    "for i,x in enumerate(h1_vec):\n",
    "    u1_now4 = u1_vec4[i] = u1_4(y2)"
   ]
  },
  {
   "cell_type": "code",
   "execution_count": 15,
   "metadata": {},
   "outputs": [
    {
     "data": {
      "text/plain": [
       "Text(0, 0.5, 'u1')"
      ]
     },
     "execution_count": 15,
     "metadata": {},
     "output_type": "execute_result"
    },
    {
     "data": {
      "image/png": "[encoded data removed]",
      "text/plain": [
       "<Figure size 432x288 with 1 Axes>"
      ]
     },
     "metadata": {
      "needs_background": "light"
     },
     "output_type": "display_data"
    }
   ],
   "source": [
    "# plotting all the cases together\n",
    "plt.plot(h1_vec,u1_vec1, label = 'U1_1')\n",
    "plt.plot(h1_vec,u1_vec2, label = 'U1_2')\n",
    "plt.plot(h1_vec,u1_vec3, label = 'U1_3')\n",
    "plt.plot(h1_vec,u1_vec4, label = 'U1_4')\n",
    "plt.legend()\n",
    "plt.xlabel('h1')\n",
    "plt.ylabel('u1')"
   ]
  },
  {
   "cell_type": "markdown",
   "metadata": {},
   "source": [
    "Analysing the graph we can reach 2 conclusions:\n",
    "\n",
    "1. She will not work when the biggest values of u1 come from U1_3\n",
    "2. She will work when the biggest values come from U1_1\n",
    "\n",
    "This means that the value of h1 that equals U1_1 and U1_3 is an inflexion point\n",
    "\n",
    "To find this value:\n",
    "\n",
    "    (((2h1_infl)**(-1))/-1)-0,1+y1 = -1 + y1\n",
    "    h1_infl = 1/1.8"
   ]
  },
  {
   "cell_type": "code",
   "execution_count": 16,
   "metadata": {},
   "outputs": [
    {
     "name": "stdout",
     "output_type": "stream",
     "text": [
      "0.5555555555555556\n"
     ]
    }
   ],
   "source": [
    "h1_infl = 1/1.8\n",
    "print(h1_infl)"
   ]
  },
  {
   "cell_type": "markdown",
   "metadata": {},
   "source": [
    "_Conclusion_:\n",
    "1. She will work if h1 > 0.55...\n",
    "2. She will not work if h1 < 0.55..."
   ]
  },
  {
   "cell_type": "code",
   "execution_count": 17,
   "metadata": {},
   "outputs": [
    {
     "data": {
      "text/plain": [
       "Text(0, 0.5, 'labor supply')"
      ]
     },
     "execution_count": 17,
     "metadata": {},
     "output_type": "execute_result"
    },
    {
     "data": {
      "image/png": "[encoded data removed]",
      "text/plain": [
       "<Figure size 432x288 with 1 Axes>"
      ]
     },
     "metadata": {
      "needs_background": "light"
     },
     "output_type": "display_data"
    }
   ],
   "source": [
    "# Now that we know the inflexion point, we can plot a graph labor vs h1\n",
    "ls_vec5 = np.empty(100)\n",
    "for i,x in enumerate (h1_vec):\n",
    "    def labor_suply5(x):\n",
    "        if x > h1_infl:\n",
    "            return 1\n",
    "        else:\n",
    "            return 0\n",
    "    ls_vec5[i] = labor_suply5(x)\n",
    "    \n",
    "plt.plot(h1_vec,ls_vec5)\n",
    "plt.xlabel('h1')\n",
    "plt.ylabel('labor supply')"
   ]
  },
  {
   "cell_type": "markdown",
   "metadata": {},
   "source": [
    "# Question 3"
   ]
  },
  {
   "cell_type": "markdown",
   "metadata": {},
   "source": [
    "Directly, we can say that the answer is no, she will not always choose not to work if her unemployment benefit is higher than her potential wage. This occurs because her choice is made based on her utility function, that depends also on other arguments besides wage and benefits.\n",
    "\n",
    "To illustrate that situation, we can compare her choices in period 2 as defined above with different values of unemployment benefits(b)."
   ]
  },
  {
   "cell_type": "code",
   "execution_count": 94,
   "metadata": {},
   "outputs": [],
   "source": [
    "# defining utility function when not working (C = b)\n",
    "def ub(b,rho=2,gamma=0.1,l2=0):\n",
    "    return ((b**(1-rho))/(1-rho))-gamma*l2"
   ]
  },
  {
   "cell_type": "code",
   "execution_count": 95,
   "metadata": {},
   "outputs": [],
   "source": [
    "# Choosing 4 different values for b we can compare the cases when its lower, equal and higher(twice) than the wage = 2\n",
    "b_vec = [1,2,2.5,5]\n",
    "\n",
    "# utility for 1st case: b=1\n",
    "ub_vec1 = np.empty(100)\n",
    "for i,x in enumerate(h1_vec):\n",
    "    ub_now1 = ub_vec1[i] = ub(b_vec[0])\n",
    "\n",
    "# utility for 2nd case: b=2    \n",
    "ub_vec2 = np.empty(100)\n",
    "for i,x in enumerate(h1_vec):\n",
    "    ub_now2 = ub_vec2[i] = ub(b_vec[1])\n",
    "    \n",
    "# utility for 3rd case: b=2.5    \n",
    "ub_vec3 = np.empty(100)\n",
    "for i,x in enumerate(h1_vec):\n",
    "    ub_now3 = ub_vec3[i] = ub(b_vec[2])\n",
    "    \n",
    "# utility for 4th case: b=5    \n",
    "ub_vec4 = np.empty(100)\n",
    "for i,x in enumerate(h1_vec):\n",
    "    ub_now4 = ub_vec4[i] = ub(b_vec[3])"
   ]
  },
  {
   "cell_type": "markdown",
   "metadata": {},
   "source": [
    "When plotting the four cases, we can clearly visualize if the worker will choose not to work (utility function for b is higher than for utility functions of working in period 2)"
   ]
  },
  {
   "cell_type": "code",
   "execution_count": 99,
   "metadata": {},
   "outputs": [
    {
     "data": {
      "image/png": "[encoded data removed]",
      "text/plain": [
       "<Figure size 432x288 with 4 Axes>"
      ]
     },
     "metadata": {
      "needs_background": "light"
     },
     "output_type": "display_data"
    }
   ],
   "source": [
    "plt.figure(1)\n",
    "\n",
    "# 1st case: b=1\n",
    "plt.subplot(221)\n",
    "plt.plot(h1_vec,u2_vec1, label = '1st case of U2')\n",
    "plt.plot(h1_vec,u2_vec2, label = '2nd case of U2')\n",
    "plt.plot(h1_vec,u2_vec3, label = '3rd case of U2')\n",
    "plt.plot(h1_vec,u2_vec4, label = '4th case of U2')\n",
    "plt.plot(h1_vec,ub_vec1, label = 'U (b1)')\n",
    "plt.legend()\n",
    "plt.xlabel('h1')\n",
    "plt.ylabel('utility')\n",
    "plt.title('1st case')\n",
    "plt.ylim(-3, 0)\n",
    "\n",
    "# 2nd case: b=2\n",
    "plt.subplot(222)\n",
    "plt.plot(h1_vec,u2_vec1, label = '1st case of U2')\n",
    "plt.plot(h1_vec,u2_vec2, label = '2nd case of U2')\n",
    "plt.plot(h1_vec,u2_vec3, label = '3rd case of U2')\n",
    "plt.plot(h1_vec,u2_vec4, label = '4th case of U2')\n",
    "plt.plot(h1_vec,ub_vec2, label = 'U (b2)')\n",
    "plt.legend()\n",
    "plt.xlabel('h1')\n",
    "plt.ylabel('utility')\n",
    "plt.title('2nd case')\n",
    "plt.ylim(-3, 0)\n",
    "\n",
    "# 3rd case: b=2.5\n",
    "plt.subplot(223)\n",
    "plt.plot(h1_vec,u2_vec1, label = '1st case of U2')\n",
    "plt.plot(h1_vec,u2_vec2, label = '2nd case of U2')\n",
    "plt.plot(h1_vec,u2_vec3, label = '3rd case of U2')\n",
    "plt.plot(h1_vec,u2_vec4, label = '4th case of U2')\n",
    "plt.plot(h1_vec,ub_vec3, label = 'U (b3)')\n",
    "plt.legend()\n",
    "plt.xlabel('h1')\n",
    "plt.ylabel('utility')\n",
    "plt.title('3rd case')\n",
    "plt.ylim(-3, 0)\n",
    "\n",
    "# 4th case: b=5\n",
    "plt.subplot(224)\n",
    "plt.plot(h1_vec,u2_vec1, label = '1st case of U2')\n",
    "plt.plot(h1_vec,u2_vec2, label = '2nd case of U2')\n",
    "plt.plot(h1_vec,u2_vec3, label = '3rd case of U2')\n",
    "plt.plot(h1_vec,u2_vec4, label = '4th case of U2')\n",
    "plt.plot(h1_vec,ub_vec4, label = 'U (b4)')\n",
    "plt.legend()\n",
    "plt.xlabel('h1')\n",
    "plt.ylabel('utility')\n",
    "plt.title('4th case')\n",
    "plt.ylim(-3, 0)\n",
    "\n",
    "# adjusting positions of the figures\n",
    "plt.subplots_adjust(top=1.5, bottom=0.1, left=0.5, right=1.5, hspace=0.4,\n",
    "                    wspace=0.4)"
   ]
  },
  {
   "cell_type": "markdown",
   "metadata": {},
   "source": [
    "_Conclusion_:\n",
    "1. The 3rd case is an example that b can be bigger than wage and (depending on h1) the worker can choose to work\n",
    "2. As ilustrated by the 4th case, a high level of b makes it always better not to work"
   ]
  }
 ],
 "metadata": {
  "kernelspec": {
   "display_name": "Python 3",
   "language": "python",
   "name": "python3"
  },
  "language_info": {
   "codemirror_mode": {
    "name": "ipython",
    "version": 3
   },
   "file_extension": ".py",
   "mimetype": "text/x-python",
   "name": "python",
   "nbconvert_exporter": "python",
   "pygments_lexer": "ipython3",
   "version": "3.7.1"
  }
 },
 "nbformat": 4,
 "nbformat_minor": 2
}
